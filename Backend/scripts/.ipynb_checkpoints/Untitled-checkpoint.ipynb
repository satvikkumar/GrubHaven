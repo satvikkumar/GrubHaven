{
 "cells": [
  {
   "cell_type": "code",
   "execution_count": 1,
   "metadata": {},
   "outputs": [
    {
     "name": "stdout",
     "output_type": "stream",
     "text": [
      "/home/roshvenkatesh/Sem7/SE/Project/GH/GrubHaven/Backend/scripts\n",
      "/home/roshvenkatesh/Sem7/SE/Project/GH/GrubHaven/Backend/assets/AKF\n",
      "/home/roshvenkatesh/Sem7/SE/Project/GH/GrubHaven/Backend/assets/shantiSagar\n",
      "/home/roshvenkatesh/Sem7/SE/Project/GH/GrubHaven/Backend/assets/snacksJoint\n",
      "/home/roshvenkatesh/Sem7/SE/Project/GH/GrubHaven/Backend/assets/tacoBell\n",
      "/home/roshvenkatesh/Sem7/SE/Project/GH/GrubHaven/Backend/assets/delhiHighway\n",
      "/home/roshvenkatesh/Sem7/SE/Project/GH/GrubHaven/Backend/assets/lavonne\n",
      "/home/roshvenkatesh/Sem7/SE/Project/GH/GrubHaven/Backend/assets/sriUdupiPark\n",
      "/home/roshvenkatesh/Sem7/SE/Project/GH/GrubHaven/Backend/assets/django\n",
      "/home/roshvenkatesh/Sem7/SE/Project/GH/GrubHaven/Backend/assets/Truffles\n"
     ]
    }
   ],
   "source": [
    "# importing the requests library \n",
    "import sys\n",
    "sys.path.append('/usr/local/lib/python2.7/dist-packages')\n",
    "\n",
    "import requests\n",
    "import nltk \n",
    "import os\n",
    "from itertools import groupby\n",
    "from collections import defaultdict,Counter\n",
    "\n",
    "import numpy as np\n",
    "import matplotlib.pyplot as plt\n",
    "\n",
    "# api-endpoint \n",
    "URL = \"http://18.136.208.244:8080/api/viewReview\"\n",
    "\n",
    "res = requests.post(url = URL ,data = {\"city\":\"Bangalore\"})\n",
    "review_data  = res.json()\n",
    "\n",
    "hotels_list = []\n",
    "\n",
    "#Fetching the list of hotels \n",
    "for item in review_data:\n",
    "\tif item['hotel_name'] not in hotels_list:\n",
    "\t\thotels_list.append(item['hotel_name'])\n",
    "\n",
    "URL = \"http://18.136.208.244:8080/api/viewReservations\"\n",
    "\n",
    "cur_dir = os.path.dirname(os.path.realpath('peakhours_visualization.py'))\n",
    "\n",
    "print(cur_dir)\n",
    "\n",
    "hotel_time_dict = defaultdict(int)\n",
    "\n",
    "\n",
    "for hotel in hotels_list:\n",
    "    hotel_time_dict = defaultdict(int)\n",
    "\n",
    "    #Changing the current working directory to respective hotel folder in assets\n",
    "    target_dir = os.path.join(cur_dir, '../assets/'+str(hotel)+'/')\n",
    "    target_dir = os.path.abspath(os.path.realpath(target_dir))\n",
    "    os.chdir(target_dir)\n",
    "    print(target_dir)\n",
    "\n",
    "\n",
    "    res = requests.post(url = URL ,data = {\"hotel_name\":hotel})\n",
    "    view_tables_data  = res.json()\n",
    "    \n",
    "    if view_tables_data == []:\n",
    "        continue\n",
    "\n",
    "    else:\n",
    "        for item in view_tables_data:\n",
    "            hotel_time_dict[int(item['time'])] += 1\n",
    "\n",
    "        freq = []\n",
    "        for key in hotel_time_dict.keys():\n",
    "            freq.append(hotel_time_dict[key])\n",
    "\n",
    "        #Creating plot\n",
    "        time_slot = [1,2,3,4,5,6]\n",
    "        y_pos = np.arange(len(time_slot))\n",
    "\n",
    "        plt.bar(y_pos, freq,width = 0.8,align='center', alpha=0.5)\n",
    "        plt.xticks(y_pos, time_slot)\n",
    "        plt.ylabel('Frequency of reservations')\n",
    "        plt.title('Time slot')\n",
    "        fname = str(hotel) + \"_PeakHours.png\"\n",
    "\n",
    "        plt.savefig(fname, bbox_inches='tight')\n",
    "\n",
    "\n"
   ]
  },
  {
   "cell_type": "code",
   "execution_count": null,
   "metadata": {},
   "outputs": [],
   "source": []
  }
 ],
 "metadata": {
  "kernelspec": {
   "display_name": "Python 3",
   "language": "python",
   "name": "python3"
  },
  "language_info": {
   "codemirror_mode": {
    "name": "ipython",
    "version": 3
   },
   "file_extension": ".py",
   "mimetype": "text/x-python",
   "name": "python",
   "nbconvert_exporter": "python",
   "pygments_lexer": "ipython3",
   "version": "3.6.4"
  }
 },
 "nbformat": 4,
 "nbformat_minor": 2
}
